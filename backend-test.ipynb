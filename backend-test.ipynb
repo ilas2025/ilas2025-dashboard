{
 "cells": [
  {
   "cell_type": "markdown",
   "id": "9fb6cb8c-d737-420e-8bb3-67707ada9e33",
   "metadata": {},
   "source": [
    "### Download files"
   ]
  },
  {
   "cell_type": "code",
   "execution_count": null,
   "id": "4bc7a73d-bacb-4777-92b8-0adebff5cffb",
   "metadata": {},
   "outputs": [],
   "source": [
    "import os\n",
    "import urllib.request\n",
    "DATAPATH = \"data\"\n",
    "\n",
    "for filename, url in URLS.items():\n",
    "    urllib.request.urlretrieve(url,\n",
    "                               os.path.join(DATAPATH, filename))\n",
    "    print(\"%s downloaded\"%filename)"
   ]
  },
  {
   "cell_type": "markdown",
   "id": "af65036b-da24-498b-b65b-9e8781525f49",
   "metadata": {},
   "source": [
    "### Fuzzy matching"
   ]
  },
  {
   "cell_type": "code",
   "execution_count": null,
   "id": "7dc0c430-f440-47c0-bbac-6e4edc03b3d9",
   "metadata": {},
   "outputs": [],
   "source": [
    "import pandas as pd\n",
    "from thefuzz import fuzz"
   ]
  },
  {
   "cell_type": "code",
   "execution_count": null,
   "id": "a96c5a5c-07c0-4564-b3a4-7327a9ae4cd5",
   "metadata": {},
   "outputs": [],
   "source": [
    "fuzz.ratio(\"Jephian C.-H. Lin\", \"Jephian Lin\")"
   ]
  },
  {
   "cell_type": "code",
   "execution_count": null,
   "id": "c59a97a7-e7cb-46da-a749-9f7a65ef0c8c",
   "metadata": {},
   "outputs": [],
   "source": [
    "reg = pd.read_csv(os.path.join(DATAPATH, \"reg.csv\")).set_index(\"PID\").dropna(how=\"all\")\n",
    "reg[\"FULL_NAME\"] = (reg.FIRST_NAME + \" \" + reg.LAST_NAME).str.lower()\n",
    "reg = reg.loc[~reg.FULL_NAME.isna()]\n",
    "reg.head()"
   ]
  },
  {
   "cell_type": "code",
   "execution_count": null,
   "id": "7a5672d3-bb1f-4e55-9765-e7eb398e38d1",
   "metadata": {},
   "outputs": [],
   "source": [
    "talks = pd.read_csv(os.path.join(DATAPATH, \"talks.csv\")).set_index(\"TID\").dropna(how=\"all\")\n",
    "talks[\"FULL_NAME\"] = (talks.FIRST_NAME + \" \" + talks.LAST_NAME).str.lower()\n",
    "talks = talks.loc[~talks.FULL_NAME.isna()]\n",
    "talks.head()"
   ]
  },
  {
   "cell_type": "code",
   "execution_count": null,
   "id": "b5c15a16-cf0d-458a-b211-93ea009fd861",
   "metadata": {},
   "outputs": [],
   "source": [
    "mini_talks = pd.read_csv(os.path.join(DATAPATH, \"mini-speakers.csv\")).dropna(how=\"all\")\n",
    "mini_talks[\"FULL_NAME\"] = mini_talks.NAME.str.lower()\n",
    "mini_talks.head()"
   ]
  },
  {
   "cell_type": "code",
   "execution_count": null,
   "id": "bab5dad4-a028-45f5-ba50-96105491ffa3",
   "metadata": {},
   "outputs": [],
   "source": []
  }
 ],
 "metadata": {
  "kernelspec": {
   "display_name": "python-streamlit",
   "language": "python",
   "name": "python-streamlit"
  },
  "language_info": {
   "codemirror_mode": {
    "name": "ipython",
    "version": 3
   },
   "file_extension": ".py",
   "mimetype": "text/x-python",
   "name": "python",
   "nbconvert_exporter": "python",
   "pygments_lexer": "ipython3",
   "version": "3.13.1"
  }
 },
 "nbformat": 4,
 "nbformat_minor": 5
}
